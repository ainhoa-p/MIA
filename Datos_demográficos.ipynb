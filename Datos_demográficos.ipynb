{
  "nbformat": 4,
  "nbformat_minor": 0,
  "metadata": {
    "colab": {
      "provenance": [],
      "authorship_tag": "ABX9TyMTODee+C6K4Or1/Jn9SYuo",
      "include_colab_link": true
    },
    "kernelspec": {
      "name": "python3",
      "display_name": "Python 3"
    },
    "language_info": {
      "name": "python"
    }
  },
  "cells": [
    {
      "cell_type": "markdown",
      "metadata": {
        "id": "view-in-github",
        "colab_type": "text"
      },
      "source": [
        "<a href=\"https://colab.research.google.com/github/ainhoa-p/MIA/blob/main/Datos_demogr%C3%A1ficos.ipynb\" target=\"_parent\"><img src=\"https://colab.research.google.com/assets/colab-badge.svg\" alt=\"Open In Colab\"/></a>"
      ]
    },
    {
      "cell_type": "code",
      "source": [
        "import pandas as pd\n",
        "from rich import print\n",
        "from rich.console import Console\n",
        "from rich.panel import Panel\n",
        "\n",
        "console = Console()"
      ],
      "metadata": {
        "id": "FnItFoze6e1v"
      },
      "execution_count": 64,
      "outputs": []
    },
    {
      "cell_type": "code",
      "execution_count": 65,
      "metadata": {
        "colab": {
          "base_uri": "https://localhost:8080/",
          "height": 73
        },
        "id": "3KjuVWyv6CGD",
        "outputId": "7539f743-00b4-4e18-eb9f-8682b93af61e"
      },
      "outputs": [
        {
          "output_type": "display_data",
          "data": {
            "text/plain": [
              "<IPython.core.display.HTML object>"
            ],
            "text/html": [
              "\n",
              "     <input type=\"file\" id=\"files-653b2084-e386-4904-ac1a-05eec6e91fc9\" name=\"files[]\" multiple disabled\n",
              "        style=\"border:none\" />\n",
              "     <output id=\"result-653b2084-e386-4904-ac1a-05eec6e91fc9\">\n",
              "      Upload widget is only available when the cell has been executed in the\n",
              "      current browser session. Please rerun this cell to enable.\n",
              "      </output>\n",
              "      <script>// Copyright 2017 Google LLC\n",
              "//\n",
              "// Licensed under the Apache License, Version 2.0 (the \"License\");\n",
              "// you may not use this file except in compliance with the License.\n",
              "// You may obtain a copy of the License at\n",
              "//\n",
              "//      http://www.apache.org/licenses/LICENSE-2.0\n",
              "//\n",
              "// Unless required by applicable law or agreed to in writing, software\n",
              "// distributed under the License is distributed on an \"AS IS\" BASIS,\n",
              "// WITHOUT WARRANTIES OR CONDITIONS OF ANY KIND, either express or implied.\n",
              "// See the License for the specific language governing permissions and\n",
              "// limitations under the License.\n",
              "\n",
              "/**\n",
              " * @fileoverview Helpers for google.colab Python module.\n",
              " */\n",
              "(function(scope) {\n",
              "function span(text, styleAttributes = {}) {\n",
              "  const element = document.createElement('span');\n",
              "  element.textContent = text;\n",
              "  for (const key of Object.keys(styleAttributes)) {\n",
              "    element.style[key] = styleAttributes[key];\n",
              "  }\n",
              "  return element;\n",
              "}\n",
              "\n",
              "// Max number of bytes which will be uploaded at a time.\n",
              "const MAX_PAYLOAD_SIZE = 100 * 1024;\n",
              "\n",
              "function _uploadFiles(inputId, outputId) {\n",
              "  const steps = uploadFilesStep(inputId, outputId);\n",
              "  const outputElement = document.getElementById(outputId);\n",
              "  // Cache steps on the outputElement to make it available for the next call\n",
              "  // to uploadFilesContinue from Python.\n",
              "  outputElement.steps = steps;\n",
              "\n",
              "  return _uploadFilesContinue(outputId);\n",
              "}\n",
              "\n",
              "// This is roughly an async generator (not supported in the browser yet),\n",
              "// where there are multiple asynchronous steps and the Python side is going\n",
              "// to poll for completion of each step.\n",
              "// This uses a Promise to block the python side on completion of each step,\n",
              "// then passes the result of the previous step as the input to the next step.\n",
              "function _uploadFilesContinue(outputId) {\n",
              "  const outputElement = document.getElementById(outputId);\n",
              "  const steps = outputElement.steps;\n",
              "\n",
              "  const next = steps.next(outputElement.lastPromiseValue);\n",
              "  return Promise.resolve(next.value.promise).then((value) => {\n",
              "    // Cache the last promise value to make it available to the next\n",
              "    // step of the generator.\n",
              "    outputElement.lastPromiseValue = value;\n",
              "    return next.value.response;\n",
              "  });\n",
              "}\n",
              "\n",
              "/**\n",
              " * Generator function which is called between each async step of the upload\n",
              " * process.\n",
              " * @param {string} inputId Element ID of the input file picker element.\n",
              " * @param {string} outputId Element ID of the output display.\n",
              " * @return {!Iterable<!Object>} Iterable of next steps.\n",
              " */\n",
              "function* uploadFilesStep(inputId, outputId) {\n",
              "  const inputElement = document.getElementById(inputId);\n",
              "  inputElement.disabled = false;\n",
              "\n",
              "  const outputElement = document.getElementById(outputId);\n",
              "  outputElement.innerHTML = '';\n",
              "\n",
              "  const pickedPromise = new Promise((resolve) => {\n",
              "    inputElement.addEventListener('change', (e) => {\n",
              "      resolve(e.target.files);\n",
              "    });\n",
              "  });\n",
              "\n",
              "  const cancel = document.createElement('button');\n",
              "  inputElement.parentElement.appendChild(cancel);\n",
              "  cancel.textContent = 'Cancel upload';\n",
              "  const cancelPromise = new Promise((resolve) => {\n",
              "    cancel.onclick = () => {\n",
              "      resolve(null);\n",
              "    };\n",
              "  });\n",
              "\n",
              "  // Wait for the user to pick the files.\n",
              "  const files = yield {\n",
              "    promise: Promise.race([pickedPromise, cancelPromise]),\n",
              "    response: {\n",
              "      action: 'starting',\n",
              "    }\n",
              "  };\n",
              "\n",
              "  cancel.remove();\n",
              "\n",
              "  // Disable the input element since further picks are not allowed.\n",
              "  inputElement.disabled = true;\n",
              "\n",
              "  if (!files) {\n",
              "    return {\n",
              "      response: {\n",
              "        action: 'complete',\n",
              "      }\n",
              "    };\n",
              "  }\n",
              "\n",
              "  for (const file of files) {\n",
              "    const li = document.createElement('li');\n",
              "    li.append(span(file.name, {fontWeight: 'bold'}));\n",
              "    li.append(span(\n",
              "        `(${file.type || 'n/a'}) - ${file.size} bytes, ` +\n",
              "        `last modified: ${\n",
              "            file.lastModifiedDate ? file.lastModifiedDate.toLocaleDateString() :\n",
              "                                    'n/a'} - `));\n",
              "    const percent = span('0% done');\n",
              "    li.appendChild(percent);\n",
              "\n",
              "    outputElement.appendChild(li);\n",
              "\n",
              "    const fileDataPromise = new Promise((resolve) => {\n",
              "      const reader = new FileReader();\n",
              "      reader.onload = (e) => {\n",
              "        resolve(e.target.result);\n",
              "      };\n",
              "      reader.readAsArrayBuffer(file);\n",
              "    });\n",
              "    // Wait for the data to be ready.\n",
              "    let fileData = yield {\n",
              "      promise: fileDataPromise,\n",
              "      response: {\n",
              "        action: 'continue',\n",
              "      }\n",
              "    };\n",
              "\n",
              "    // Use a chunked sending to avoid message size limits. See b/62115660.\n",
              "    let position = 0;\n",
              "    do {\n",
              "      const length = Math.min(fileData.byteLength - position, MAX_PAYLOAD_SIZE);\n",
              "      const chunk = new Uint8Array(fileData, position, length);\n",
              "      position += length;\n",
              "\n",
              "      const base64 = btoa(String.fromCharCode.apply(null, chunk));\n",
              "      yield {\n",
              "        response: {\n",
              "          action: 'append',\n",
              "          file: file.name,\n",
              "          data: base64,\n",
              "        },\n",
              "      };\n",
              "\n",
              "      let percentDone = fileData.byteLength === 0 ?\n",
              "          100 :\n",
              "          Math.round((position / fileData.byteLength) * 100);\n",
              "      percent.textContent = `${percentDone}% done`;\n",
              "\n",
              "    } while (position < fileData.byteLength);\n",
              "  }\n",
              "\n",
              "  // All done.\n",
              "  yield {\n",
              "    response: {\n",
              "      action: 'complete',\n",
              "    }\n",
              "  };\n",
              "}\n",
              "\n",
              "scope.google = scope.google || {};\n",
              "scope.google.colab = scope.google.colab || {};\n",
              "scope.google.colab._files = {\n",
              "  _uploadFiles,\n",
              "  _uploadFilesContinue,\n",
              "};\n",
              "})(self);\n",
              "</script> "
            ]
          },
          "metadata": {}
        },
        {
          "output_type": "stream",
          "name": "stdout",
          "text": [
            "Saving Database_paper5_T1-rim-PRLs-CaseControl_anon_ainhoay.xlsx to Database_paper5_T1-rim-PRLs-CaseControl_anon_ainhoay (5).xlsx\n"
          ]
        }
      ],
      "source": [
        "from google.colab import files\n",
        "uploaded= files.upload ()"
      ]
    },
    {
      "cell_type": "code",
      "source": [
        "miArchivo = list (uploaded.keys ()) [0]\n",
        "\n",
        "df = pd.read_excel (miArchivo)"
      ],
      "metadata": {
        "id": "5dXASA-g6VCu"
      },
      "execution_count": 66,
      "outputs": []
    },
    {
      "cell_type": "code",
      "source": [
        "print(df.columns.tolist())"
      ],
      "metadata": {
        "colab": {
          "base_uri": "https://localhost:8080/",
          "height": 476
        },
        "id": "fgVCLXiPpYrM",
        "outputId": "6d32f094-6211-4f94-d9e4-ee547bbcfedf"
      },
      "execution_count": 67,
      "outputs": [
        {
          "output_type": "display_data",
          "data": {
            "text/plain": [
              "\u001b[1m[\u001b[0m\n",
              "    \u001b[32m'EDMUS'\u001b[0m,\n",
              "    \u001b[32m'DOB'\u001b[0m,\n",
              "    \u001b[32m'Age_MRI'\u001b[0m,\n",
              "    \u001b[32m'Sex_fem'\u001b[0m,\n",
              "    \u001b[32m'MRI_Date'\u001b[0m,\n",
              "    \u001b[32m'Disease_duration'\u001b[0m,\n",
              "    \u001b[32m'EDSS_Baseline'\u001b[0m,\n",
              "    \u001b[32m'Onset'\u001b[0m,\n",
              "    \u001b[32m'Age_onset'\u001b[0m,\n",
              "    \u001b[32m'2nd_relapse'\u001b[0m,\n",
              "    \u001b[32m'Interval_2nd_relapse'\u001b[0m,\n",
              "    \u001b[32m'Last_Fup'\u001b[0m,\n",
              "    \u001b[32m'Fup_interval'\u001b[0m,\n",
              "    \u001b[32m'EDSS_Last_Fup'\u001b[0m,\n",
              "    \u001b[32m'Outcome_SPMS'\u001b[0m,\n",
              "    \u001b[32m'Onset_SPMS'\u001b[0m,\n",
              "    \u001b[32m'Missing_Fup_\u001b[0m\u001b[32m(\u001b[0m\u001b[32mcambio_centro_0,_Neo_1,_Exitus_2,_unknow_3'\u001b[0m,\n",
              "    \u001b[32m'tto_plataforma_inicio'\u001b[0m,\n",
              "    \u001b[32m'tto_plataforma_fin'\u001b[0m,\n",
              "    \u001b[32m'tto_plat_intervalo'\u001b[0m,\n",
              "    \u001b[32m'tto_alta_eficacia_inicio'\u001b[0m,\n",
              "    \u001b[32m'tto_alta_eficacia_fin'\u001b[0m,\n",
              "    \u001b[32m'tto_alta_intervalo'\u001b[0m,\n",
              "    \u001b[32m'CURRENT_TTO'\u001b[0m,\n",
              "    \u001b[32m'lesiones'\u001b[0m\n",
              "\u001b[1m]\u001b[0m\n"
            ],
            "text/html": [
              "<pre style=\"white-space:pre;overflow-x:auto;line-height:normal;font-family:Menlo,'DejaVu Sans Mono',consolas,'Courier New',monospace\"><span style=\"font-weight: bold\">[</span>\n",
              "    <span style=\"color: #008000; text-decoration-color: #008000\">'EDMUS'</span>,\n",
              "    <span style=\"color: #008000; text-decoration-color: #008000\">'DOB'</span>,\n",
              "    <span style=\"color: #008000; text-decoration-color: #008000\">'Age_MRI'</span>,\n",
              "    <span style=\"color: #008000; text-decoration-color: #008000\">'Sex_fem'</span>,\n",
              "    <span style=\"color: #008000; text-decoration-color: #008000\">'MRI_Date'</span>,\n",
              "    <span style=\"color: #008000; text-decoration-color: #008000\">'Disease_duration'</span>,\n",
              "    <span style=\"color: #008000; text-decoration-color: #008000\">'EDSS_Baseline'</span>,\n",
              "    <span style=\"color: #008000; text-decoration-color: #008000\">'Onset'</span>,\n",
              "    <span style=\"color: #008000; text-decoration-color: #008000\">'Age_onset'</span>,\n",
              "    <span style=\"color: #008000; text-decoration-color: #008000\">'2nd_relapse'</span>,\n",
              "    <span style=\"color: #008000; text-decoration-color: #008000\">'Interval_2nd_relapse'</span>,\n",
              "    <span style=\"color: #008000; text-decoration-color: #008000\">'Last_Fup'</span>,\n",
              "    <span style=\"color: #008000; text-decoration-color: #008000\">'Fup_interval'</span>,\n",
              "    <span style=\"color: #008000; text-decoration-color: #008000\">'EDSS_Last_Fup'</span>,\n",
              "    <span style=\"color: #008000; text-decoration-color: #008000\">'Outcome_SPMS'</span>,\n",
              "    <span style=\"color: #008000; text-decoration-color: #008000\">'Onset_SPMS'</span>,\n",
              "    <span style=\"color: #008000; text-decoration-color: #008000\">'Missing_Fup_(cambio_centro_0,_Neo_1,_Exitus_2,_unknow_3'</span>,\n",
              "    <span style=\"color: #008000; text-decoration-color: #008000\">'tto_plataforma_inicio'</span>,\n",
              "    <span style=\"color: #008000; text-decoration-color: #008000\">'tto_plataforma_fin'</span>,\n",
              "    <span style=\"color: #008000; text-decoration-color: #008000\">'tto_plat_intervalo'</span>,\n",
              "    <span style=\"color: #008000; text-decoration-color: #008000\">'tto_alta_eficacia_inicio'</span>,\n",
              "    <span style=\"color: #008000; text-decoration-color: #008000\">'tto_alta_eficacia_fin'</span>,\n",
              "    <span style=\"color: #008000; text-decoration-color: #008000\">'tto_alta_intervalo'</span>,\n",
              "    <span style=\"color: #008000; text-decoration-color: #008000\">'CURRENT_TTO'</span>,\n",
              "    <span style=\"color: #008000; text-decoration-color: #008000\">'lesiones'</span>\n",
              "<span style=\"font-weight: bold\">]</span>\n",
              "</pre>\n"
            ]
          },
          "metadata": {}
        }
      ]
    },
    {
      "cell_type": "markdown",
      "source": [
        "    'Age_MRI',\n",
        "    'Sex_fem',\n",
        "    'Disease_duration',\n",
        "    'EDSS_Baseline':  escala de progresión de esclerosis mútiple.\n",
        "    'Age_onset',\n",
        "    'Fup_interval',\n",
        "    'Outcome_SPMS': control (0) o caso (1) convierte a secundaria progresiva esclerosis multiple.\n",
        "    'Missing_Fup_(cambio_centro_0,_Neo_1,_Exitus_2,_unknow_3',\n",
        "    'CURRENT_TTO'\n",
        "    'lesiones'\n",
        "]"
      ],
      "metadata": {
        "id": "UTGZcC2xpp5E"
      }
    },
    {
      "cell_type": "code",
      "source": [
        "#reduzco la cantidad de columnas\n",
        "df_reducido = df[['Age_MRI', 'Sex_fem', 'Disease_duration','EDSS_Baseline', 'Age_onset','Fup_interval', 'Outcome_SPMS', 'Missing_Fup_(cambio_centro_0,_Neo_1,_Exitus_2,_unknow_3', 'CURRENT_TTO', 'lesiones']]"
      ],
      "metadata": {
        "id": "X6k5OBeDDchj"
      },
      "execution_count": 68,
      "outputs": []
    },
    {
      "cell_type": "code",
      "source": [
        "#renombro alguna columna\n",
        "df_reducido = df_reducido.rename (columns = {'Outcome_SPMS' : 'control_caso', 'Missing_Fup_(cambio_centro_0,_Neo_1,_Exitus_2,_unknow_3': 'perdidos' })\n",
        "console.print (df_reducido)"
      ],
      "metadata": {
        "colab": {
          "base_uri": "https://localhost:8080/",
          "height": 476
        },
        "id": "AQYv4OHctZSU",
        "outputId": "5db9676c-c5a0-4664-e483-5b330f47a65e"
      },
      "execution_count": 69,
      "outputs": [
        {
          "output_type": "display_data",
          "data": {
            "text/plain": [
              "       Age_MRI  Sex_fem  Disease_duration  EDSS_Baseline  Age_onset  \\\n",
              "\u001b[1;36m0\u001b[0m    \u001b[1;36m25.549762\u001b[0m        \u001b[1;36m1\u001b[0m          \u001b[1;36m7.611364\u001b[0m            \u001b[1;36m4.0\u001b[0m  \u001b[1;36m17.938398\u001b[0m   \n",
              "\u001b[1;36m1\u001b[0m    \u001b[1;36m43.194123\u001b[0m        \u001b[1;36m0\u001b[0m         \u001b[1;36m26.671194\u001b[0m            \u001b[1;36m3.0\u001b[0m  \u001b[1;36m16.522930\u001b[0m   \n",
              "\u001b[1;36m2\u001b[0m    \u001b[1;36m33.902972\u001b[0m        \u001b[1;36m1\u001b[0m         \u001b[1;36m10.245203\u001b[0m            \u001b[1;36m3.0\u001b[0m  \u001b[1;36m23.657769\u001b[0m   \n",
              "\u001b[1;36m3\u001b[0m    \u001b[1;36m26.264609\u001b[0m        \u001b[1;36m0\u001b[0m          \u001b[1;36m3.715670\u001b[0m            \u001b[1;36m3.0\u001b[0m  \u001b[1;36m22.548939\u001b[0m   \n",
              "\u001b[1;36m4\u001b[0m    \u001b[1;36m47.904803\u001b[0m        \u001b[1;36m1\u001b[0m         \u001b[1;36m15.127253\u001b[0m            \u001b[1;36m2.5\u001b[0m  \u001b[1;36m32.777550\u001b[0m   \n",
              "..         \u001b[33m...\u001b[0m      \u001b[33m...\u001b[0m               \u001b[33m...\u001b[0m            \u001b[33m...\u001b[0m        \u001b[33m...\u001b[0m   \n",
              "\u001b[1;36m115\u001b[0m  \u001b[1;36m50.392893\u001b[0m        \u001b[1;36m0\u001b[0m         \u001b[1;36m23.622188\u001b[0m            \u001b[1;36m3.5\u001b[0m  \u001b[1;36m26.770705\u001b[0m   \n",
              "\u001b[1;36m116\u001b[0m  \u001b[1;36m39.318859\u001b[0m        \u001b[1;36m0\u001b[0m         \u001b[1;36m13.974574\u001b[0m            \u001b[1;36m1.5\u001b[0m  \u001b[1;36m25.344285\u001b[0m   \n",
              "\u001b[1;36m117\u001b[0m  \u001b[1;36m41.983229\u001b[0m        \u001b[1;36m1\u001b[0m          \u001b[1;36m1.200203\u001b[0m            \u001b[1;36m3.0\u001b[0m  \u001b[1;36m40.783025\u001b[0m   \n",
              "\u001b[1;36m118\u001b[0m  \u001b[1;36m53.936373\u001b[0m        \u001b[1;36m1\u001b[0m         \u001b[1;36m31.338153\u001b[0m            \u001b[1;36m3.5\u001b[0m  \u001b[1;36m22.598220\u001b[0m   \n",
              "\u001b[1;36m119\u001b[0m  \u001b[1;36m54.730708\u001b[0m        \u001b[1;36m1\u001b[0m          \u001b[1;36m2.500728\u001b[0m            \u001b[1;36m2.0\u001b[0m  \u001b[1;36m52.229979\u001b[0m   \n",
              "\n",
              "     Fup_interval  control_caso  perdidos  CURRENT_TTO  lesiones  \n",
              "\u001b[1;36m0\u001b[0m        \u001b[1;36m5.908143\u001b[0m             \u001b[1;36m0\u001b[0m       NaN            \u001b[1;36m2\u001b[0m        \u001b[1;36m53\u001b[0m  \n",
              "\u001b[1;36m1\u001b[0m        \u001b[1;36m6.388355\u001b[0m             \u001b[1;36m1\u001b[0m       NaN            \u001b[1;36m2\u001b[0m         \u001b[1;36m5\u001b[0m  \n",
              "\u001b[1;36m2\u001b[0m        \u001b[1;36m6.466638\u001b[0m             \u001b[1;36m0\u001b[0m       NaN            \u001b[1;36m1\u001b[0m        \u001b[1;36m16\u001b[0m  \n",
              "\u001b[1;36m3\u001b[0m        \u001b[1;36m6.485562\u001b[0m             \u001b[1;36m0\u001b[0m       NaN            \u001b[1;36m2\u001b[0m        \u001b[1;36m16\u001b[0m  \n",
              "\u001b[1;36m4\u001b[0m        \u001b[1;36m5.773500\u001b[0m             \u001b[1;36m1\u001b[0m       NaN            \u001b[1;36m2\u001b[0m        \u001b[1;36m15\u001b[0m  \n",
              "..            \u001b[33m...\u001b[0m           \u001b[33m...\u001b[0m       \u001b[33m...\u001b[0m          \u001b[33m...\u001b[0m       \u001b[33m...\u001b[0m  \n",
              "\u001b[1;36m115\u001b[0m      \u001b[1;36m4.930858\u001b[0m             \u001b[1;36m1\u001b[0m       NaN            \u001b[1;36m1\u001b[0m        \u001b[1;36m18\u001b[0m  \n",
              "\u001b[1;36m116\u001b[0m      \u001b[1;36m4.820772\u001b[0m             \u001b[1;36m1\u001b[0m       NaN            \u001b[1;36m1\u001b[0m         \u001b[1;36m5\u001b[0m  \n",
              "\u001b[1;36m117\u001b[0m      \u001b[1;36m4.034567\u001b[0m             \u001b[1;36m1\u001b[0m       NaN            \u001b[1;36m0\u001b[0m         \u001b[1;36m6\u001b[0m  \n",
              "\u001b[1;36m118\u001b[0m      \u001b[1;36m3.793948\u001b[0m             \u001b[1;36m1\u001b[0m       NaN            \u001b[1;36m1\u001b[0m         \u001b[1;36m4\u001b[0m  \n",
              "\u001b[1;36m119\u001b[0m      \u001b[1;36m3.935959\u001b[0m             \u001b[1;36m1\u001b[0m       NaN            \u001b[1;36m0\u001b[0m         \u001b[1;36m4\u001b[0m  \n",
              "\n",
              "\u001b[1m[\u001b[0m\u001b[1;36m120\u001b[0m rows x \u001b[1;36m10\u001b[0m columns\u001b[1m]\u001b[0m\n"
            ],
            "text/html": [
              "<pre style=\"white-space:pre;overflow-x:auto;line-height:normal;font-family:Menlo,'DejaVu Sans Mono',consolas,'Courier New',monospace\">       Age_MRI  Sex_fem  Disease_duration  EDSS_Baseline  Age_onset  \\\n",
              "<span style=\"color: #008080; text-decoration-color: #008080; font-weight: bold\">0</span>    <span style=\"color: #008080; text-decoration-color: #008080; font-weight: bold\">25.549762</span>        <span style=\"color: #008080; text-decoration-color: #008080; font-weight: bold\">1</span>          <span style=\"color: #008080; text-decoration-color: #008080; font-weight: bold\">7.611364</span>            <span style=\"color: #008080; text-decoration-color: #008080; font-weight: bold\">4.0</span>  <span style=\"color: #008080; text-decoration-color: #008080; font-weight: bold\">17.938398</span>   \n",
              "<span style=\"color: #008080; text-decoration-color: #008080; font-weight: bold\">1</span>    <span style=\"color: #008080; text-decoration-color: #008080; font-weight: bold\">43.194123</span>        <span style=\"color: #008080; text-decoration-color: #008080; font-weight: bold\">0</span>         <span style=\"color: #008080; text-decoration-color: #008080; font-weight: bold\">26.671194</span>            <span style=\"color: #008080; text-decoration-color: #008080; font-weight: bold\">3.0</span>  <span style=\"color: #008080; text-decoration-color: #008080; font-weight: bold\">16.522930</span>   \n",
              "<span style=\"color: #008080; text-decoration-color: #008080; font-weight: bold\">2</span>    <span style=\"color: #008080; text-decoration-color: #008080; font-weight: bold\">33.902972</span>        <span style=\"color: #008080; text-decoration-color: #008080; font-weight: bold\">1</span>         <span style=\"color: #008080; text-decoration-color: #008080; font-weight: bold\">10.245203</span>            <span style=\"color: #008080; text-decoration-color: #008080; font-weight: bold\">3.0</span>  <span style=\"color: #008080; text-decoration-color: #008080; font-weight: bold\">23.657769</span>   \n",
              "<span style=\"color: #008080; text-decoration-color: #008080; font-weight: bold\">3</span>    <span style=\"color: #008080; text-decoration-color: #008080; font-weight: bold\">26.264609</span>        <span style=\"color: #008080; text-decoration-color: #008080; font-weight: bold\">0</span>          <span style=\"color: #008080; text-decoration-color: #008080; font-weight: bold\">3.715670</span>            <span style=\"color: #008080; text-decoration-color: #008080; font-weight: bold\">3.0</span>  <span style=\"color: #008080; text-decoration-color: #008080; font-weight: bold\">22.548939</span>   \n",
              "<span style=\"color: #008080; text-decoration-color: #008080; font-weight: bold\">4</span>    <span style=\"color: #008080; text-decoration-color: #008080; font-weight: bold\">47.904803</span>        <span style=\"color: #008080; text-decoration-color: #008080; font-weight: bold\">1</span>         <span style=\"color: #008080; text-decoration-color: #008080; font-weight: bold\">15.127253</span>            <span style=\"color: #008080; text-decoration-color: #008080; font-weight: bold\">2.5</span>  <span style=\"color: #008080; text-decoration-color: #008080; font-weight: bold\">32.777550</span>   \n",
              "..         <span style=\"color: #808000; text-decoration-color: #808000\">...</span>      <span style=\"color: #808000; text-decoration-color: #808000\">...</span>               <span style=\"color: #808000; text-decoration-color: #808000\">...</span>            <span style=\"color: #808000; text-decoration-color: #808000\">...</span>        <span style=\"color: #808000; text-decoration-color: #808000\">...</span>   \n",
              "<span style=\"color: #008080; text-decoration-color: #008080; font-weight: bold\">115</span>  <span style=\"color: #008080; text-decoration-color: #008080; font-weight: bold\">50.392893</span>        <span style=\"color: #008080; text-decoration-color: #008080; font-weight: bold\">0</span>         <span style=\"color: #008080; text-decoration-color: #008080; font-weight: bold\">23.622188</span>            <span style=\"color: #008080; text-decoration-color: #008080; font-weight: bold\">3.5</span>  <span style=\"color: #008080; text-decoration-color: #008080; font-weight: bold\">26.770705</span>   \n",
              "<span style=\"color: #008080; text-decoration-color: #008080; font-weight: bold\">116</span>  <span style=\"color: #008080; text-decoration-color: #008080; font-weight: bold\">39.318859</span>        <span style=\"color: #008080; text-decoration-color: #008080; font-weight: bold\">0</span>         <span style=\"color: #008080; text-decoration-color: #008080; font-weight: bold\">13.974574</span>            <span style=\"color: #008080; text-decoration-color: #008080; font-weight: bold\">1.5</span>  <span style=\"color: #008080; text-decoration-color: #008080; font-weight: bold\">25.344285</span>   \n",
              "<span style=\"color: #008080; text-decoration-color: #008080; font-weight: bold\">117</span>  <span style=\"color: #008080; text-decoration-color: #008080; font-weight: bold\">41.983229</span>        <span style=\"color: #008080; text-decoration-color: #008080; font-weight: bold\">1</span>          <span style=\"color: #008080; text-decoration-color: #008080; font-weight: bold\">1.200203</span>            <span style=\"color: #008080; text-decoration-color: #008080; font-weight: bold\">3.0</span>  <span style=\"color: #008080; text-decoration-color: #008080; font-weight: bold\">40.783025</span>   \n",
              "<span style=\"color: #008080; text-decoration-color: #008080; font-weight: bold\">118</span>  <span style=\"color: #008080; text-decoration-color: #008080; font-weight: bold\">53.936373</span>        <span style=\"color: #008080; text-decoration-color: #008080; font-weight: bold\">1</span>         <span style=\"color: #008080; text-decoration-color: #008080; font-weight: bold\">31.338153</span>            <span style=\"color: #008080; text-decoration-color: #008080; font-weight: bold\">3.5</span>  <span style=\"color: #008080; text-decoration-color: #008080; font-weight: bold\">22.598220</span>   \n",
              "<span style=\"color: #008080; text-decoration-color: #008080; font-weight: bold\">119</span>  <span style=\"color: #008080; text-decoration-color: #008080; font-weight: bold\">54.730708</span>        <span style=\"color: #008080; text-decoration-color: #008080; font-weight: bold\">1</span>          <span style=\"color: #008080; text-decoration-color: #008080; font-weight: bold\">2.500728</span>            <span style=\"color: #008080; text-decoration-color: #008080; font-weight: bold\">2.0</span>  <span style=\"color: #008080; text-decoration-color: #008080; font-weight: bold\">52.229979</span>   \n",
              "\n",
              "     Fup_interval  control_caso  perdidos  CURRENT_TTO  lesiones  \n",
              "<span style=\"color: #008080; text-decoration-color: #008080; font-weight: bold\">0</span>        <span style=\"color: #008080; text-decoration-color: #008080; font-weight: bold\">5.908143</span>             <span style=\"color: #008080; text-decoration-color: #008080; font-weight: bold\">0</span>       NaN            <span style=\"color: #008080; text-decoration-color: #008080; font-weight: bold\">2</span>        <span style=\"color: #008080; text-decoration-color: #008080; font-weight: bold\">53</span>  \n",
              "<span style=\"color: #008080; text-decoration-color: #008080; font-weight: bold\">1</span>        <span style=\"color: #008080; text-decoration-color: #008080; font-weight: bold\">6.388355</span>             <span style=\"color: #008080; text-decoration-color: #008080; font-weight: bold\">1</span>       NaN            <span style=\"color: #008080; text-decoration-color: #008080; font-weight: bold\">2</span>         <span style=\"color: #008080; text-decoration-color: #008080; font-weight: bold\">5</span>  \n",
              "<span style=\"color: #008080; text-decoration-color: #008080; font-weight: bold\">2</span>        <span style=\"color: #008080; text-decoration-color: #008080; font-weight: bold\">6.466638</span>             <span style=\"color: #008080; text-decoration-color: #008080; font-weight: bold\">0</span>       NaN            <span style=\"color: #008080; text-decoration-color: #008080; font-weight: bold\">1</span>        <span style=\"color: #008080; text-decoration-color: #008080; font-weight: bold\">16</span>  \n",
              "<span style=\"color: #008080; text-decoration-color: #008080; font-weight: bold\">3</span>        <span style=\"color: #008080; text-decoration-color: #008080; font-weight: bold\">6.485562</span>             <span style=\"color: #008080; text-decoration-color: #008080; font-weight: bold\">0</span>       NaN            <span style=\"color: #008080; text-decoration-color: #008080; font-weight: bold\">2</span>        <span style=\"color: #008080; text-decoration-color: #008080; font-weight: bold\">16</span>  \n",
              "<span style=\"color: #008080; text-decoration-color: #008080; font-weight: bold\">4</span>        <span style=\"color: #008080; text-decoration-color: #008080; font-weight: bold\">5.773500</span>             <span style=\"color: #008080; text-decoration-color: #008080; font-weight: bold\">1</span>       NaN            <span style=\"color: #008080; text-decoration-color: #008080; font-weight: bold\">2</span>        <span style=\"color: #008080; text-decoration-color: #008080; font-weight: bold\">15</span>  \n",
              "..            <span style=\"color: #808000; text-decoration-color: #808000\">...</span>           <span style=\"color: #808000; text-decoration-color: #808000\">...</span>       <span style=\"color: #808000; text-decoration-color: #808000\">...</span>          <span style=\"color: #808000; text-decoration-color: #808000\">...</span>       <span style=\"color: #808000; text-decoration-color: #808000\">...</span>  \n",
              "<span style=\"color: #008080; text-decoration-color: #008080; font-weight: bold\">115</span>      <span style=\"color: #008080; text-decoration-color: #008080; font-weight: bold\">4.930858</span>             <span style=\"color: #008080; text-decoration-color: #008080; font-weight: bold\">1</span>       NaN            <span style=\"color: #008080; text-decoration-color: #008080; font-weight: bold\">1</span>        <span style=\"color: #008080; text-decoration-color: #008080; font-weight: bold\">18</span>  \n",
              "<span style=\"color: #008080; text-decoration-color: #008080; font-weight: bold\">116</span>      <span style=\"color: #008080; text-decoration-color: #008080; font-weight: bold\">4.820772</span>             <span style=\"color: #008080; text-decoration-color: #008080; font-weight: bold\">1</span>       NaN            <span style=\"color: #008080; text-decoration-color: #008080; font-weight: bold\">1</span>         <span style=\"color: #008080; text-decoration-color: #008080; font-weight: bold\">5</span>  \n",
              "<span style=\"color: #008080; text-decoration-color: #008080; font-weight: bold\">117</span>      <span style=\"color: #008080; text-decoration-color: #008080; font-weight: bold\">4.034567</span>             <span style=\"color: #008080; text-decoration-color: #008080; font-weight: bold\">1</span>       NaN            <span style=\"color: #008080; text-decoration-color: #008080; font-weight: bold\">0</span>         <span style=\"color: #008080; text-decoration-color: #008080; font-weight: bold\">6</span>  \n",
              "<span style=\"color: #008080; text-decoration-color: #008080; font-weight: bold\">118</span>      <span style=\"color: #008080; text-decoration-color: #008080; font-weight: bold\">3.793948</span>             <span style=\"color: #008080; text-decoration-color: #008080; font-weight: bold\">1</span>       NaN            <span style=\"color: #008080; text-decoration-color: #008080; font-weight: bold\">1</span>         <span style=\"color: #008080; text-decoration-color: #008080; font-weight: bold\">4</span>  \n",
              "<span style=\"color: #008080; text-decoration-color: #008080; font-weight: bold\">119</span>      <span style=\"color: #008080; text-decoration-color: #008080; font-weight: bold\">3.935959</span>             <span style=\"color: #008080; text-decoration-color: #008080; font-weight: bold\">1</span>       NaN            <span style=\"color: #008080; text-decoration-color: #008080; font-weight: bold\">0</span>         <span style=\"color: #008080; text-decoration-color: #008080; font-weight: bold\">4</span>  \n",
              "\n",
              "<span style=\"font-weight: bold\">[</span><span style=\"color: #008080; text-decoration-color: #008080; font-weight: bold\">120</span> rows x <span style=\"color: #008080; text-decoration-color: #008080; font-weight: bold\">10</span> columns<span style=\"font-weight: bold\">]</span>\n",
              "</pre>\n"
            ]
          },
          "metadata": {}
        }
      ]
    },
    {
      "cell_type": "code",
      "source": [
        "df_reducido.info ()"
      ],
      "metadata": {
        "colab": {
          "base_uri": "https://localhost:8080/"
        },
        "id": "fQaqylFFvT6X",
        "outputId": "b8f85c4f-6ca8-4a31-e0d7-8d68faa3941d"
      },
      "execution_count": 70,
      "outputs": [
        {
          "output_type": "stream",
          "name": "stdout",
          "text": [
            "<class 'pandas.core.frame.DataFrame'>\n",
            "RangeIndex: 120 entries, 0 to 119\n",
            "Data columns (total 10 columns):\n",
            " #   Column            Non-Null Count  Dtype  \n",
            "---  ------            --------------  -----  \n",
            " 0   Age_MRI           120 non-null    float64\n",
            " 1   Sex_fem           120 non-null    int64  \n",
            " 2   Disease_duration  120 non-null    float64\n",
            " 3   EDSS_Baseline     120 non-null    float64\n",
            " 4   Age_onset         120 non-null    float64\n",
            " 5   Fup_interval      120 non-null    float64\n",
            " 6   control_caso      120 non-null    int64  \n",
            " 7   perdidos          4 non-null      float64\n",
            " 8   CURRENT_TTO       120 non-null    int64  \n",
            " 9   lesiones          120 non-null    int64  \n",
            "dtypes: float64(6), int64(4)\n",
            "memory usage: 9.5 KB\n"
          ]
        }
      ]
    },
    {
      "cell_type": "code",
      "source": [
        "#Cambiar 'lesiones' de object a float64\n",
        "df_reducido['lesiones'] = df_reducido['lesiones'].astype('float64')\n",
        "df_reducido.info ()"
      ],
      "metadata": {
        "colab": {
          "base_uri": "https://localhost:8080/"
        },
        "id": "eYnAepRHwo4Y",
        "outputId": "7bf4fc6b-c1b2-4c69-9eb7-cb160be86a6e"
      },
      "execution_count": 71,
      "outputs": [
        {
          "output_type": "stream",
          "name": "stdout",
          "text": [
            "<class 'pandas.core.frame.DataFrame'>\n",
            "RangeIndex: 120 entries, 0 to 119\n",
            "Data columns (total 10 columns):\n",
            " #   Column            Non-Null Count  Dtype  \n",
            "---  ------            --------------  -----  \n",
            " 0   Age_MRI           120 non-null    float64\n",
            " 1   Sex_fem           120 non-null    int64  \n",
            " 2   Disease_duration  120 non-null    float64\n",
            " 3   EDSS_Baseline     120 non-null    float64\n",
            " 4   Age_onset         120 non-null    float64\n",
            " 5   Fup_interval      120 non-null    float64\n",
            " 6   control_caso      120 non-null    int64  \n",
            " 7   perdidos          4 non-null      float64\n",
            " 8   CURRENT_TTO       120 non-null    int64  \n",
            " 9   lesiones          120 non-null    float64\n",
            "dtypes: float64(7), int64(3)\n",
            "memory usage: 9.5 KB\n"
          ]
        }
      ]
    },
    {
      "cell_type": "code",
      "source": [
        "df_reducido. describe()"
      ],
      "metadata": {
        "colab": {
          "base_uri": "https://localhost:8080/",
          "height": 300
        },
        "id": "CFcFV68Y0JBa",
        "outputId": "56e06c36-b5af-431f-e3ef-2dadce4bf94f"
      },
      "execution_count": 72,
      "outputs": [
        {
          "output_type": "execute_result",
          "data": {
            "text/plain": [
              "          Age_MRI     Sex_fem  Disease_duration  EDSS_Baseline   Age_onset  \\\n",
              "count  120.000000  120.000000        120.000000     120.000000  120.000000   \n",
              "mean    48.942906    0.666667         16.329148       3.612500   32.613758   \n",
              "std     10.510502    0.473381         10.420307       1.624992   10.174284   \n",
              "min     25.041421    0.000000          0.813294       0.000000   14.406571   \n",
              "25%     42.078496    0.000000          8.240406       2.500000   24.512663   \n",
              "50%     48.337291    1.000000         15.264065       3.500000   32.731006   \n",
              "75%     54.823805    1.000000         22.634523       4.000000   38.509240   \n",
              "max     74.129936    1.000000         48.971791       7.500000   64.309377   \n",
              "\n",
              "       Fup_interval  control_caso  perdidos  CURRENT_TTO    lesiones  \n",
              "count    120.000000    120.000000  4.000000   120.000000  120.000000  \n",
              "mean       5.530560      0.500000  2.000000     1.133333    8.750000  \n",
              "std        0.648942      0.502096  1.414214     0.732594    9.347853  \n",
              "min        3.330377      0.000000  0.000000     0.000000    0.000000  \n",
              "25%        5.206422      0.000000  1.500000     1.000000    3.000000  \n",
              "50%        5.553054      0.500000  2.500000     1.000000    5.000000  \n",
              "75%        5.978486      1.000000  3.000000     2.000000   13.000000  \n",
              "max        6.579679      1.000000  3.000000     2.000000   53.000000  "
            ],
            "text/html": [
              "\n",
              "  <div id=\"df-f62a52dd-b1c0-46ef-a5e4-f4df240de932\" class=\"colab-df-container\">\n",
              "    <div>\n",
              "<style scoped>\n",
              "    .dataframe tbody tr th:only-of-type {\n",
              "        vertical-align: middle;\n",
              "    }\n",
              "\n",
              "    .dataframe tbody tr th {\n",
              "        vertical-align: top;\n",
              "    }\n",
              "\n",
              "    .dataframe thead th {\n",
              "        text-align: right;\n",
              "    }\n",
              "</style>\n",
              "<table border=\"1\" class=\"dataframe\">\n",
              "  <thead>\n",
              "    <tr style=\"text-align: right;\">\n",
              "      <th></th>\n",
              "      <th>Age_MRI</th>\n",
              "      <th>Sex_fem</th>\n",
              "      <th>Disease_duration</th>\n",
              "      <th>EDSS_Baseline</th>\n",
              "      <th>Age_onset</th>\n",
              "      <th>Fup_interval</th>\n",
              "      <th>control_caso</th>\n",
              "      <th>perdidos</th>\n",
              "      <th>CURRENT_TTO</th>\n",
              "      <th>lesiones</th>\n",
              "    </tr>\n",
              "  </thead>\n",
              "  <tbody>\n",
              "    <tr>\n",
              "      <th>count</th>\n",
              "      <td>120.000000</td>\n",
              "      <td>120.000000</td>\n",
              "      <td>120.000000</td>\n",
              "      <td>120.000000</td>\n",
              "      <td>120.000000</td>\n",
              "      <td>120.000000</td>\n",
              "      <td>120.000000</td>\n",
              "      <td>4.000000</td>\n",
              "      <td>120.000000</td>\n",
              "      <td>120.000000</td>\n",
              "    </tr>\n",
              "    <tr>\n",
              "      <th>mean</th>\n",
              "      <td>48.942906</td>\n",
              "      <td>0.666667</td>\n",
              "      <td>16.329148</td>\n",
              "      <td>3.612500</td>\n",
              "      <td>32.613758</td>\n",
              "      <td>5.530560</td>\n",
              "      <td>0.500000</td>\n",
              "      <td>2.000000</td>\n",
              "      <td>1.133333</td>\n",
              "      <td>8.750000</td>\n",
              "    </tr>\n",
              "    <tr>\n",
              "      <th>std</th>\n",
              "      <td>10.510502</td>\n",
              "      <td>0.473381</td>\n",
              "      <td>10.420307</td>\n",
              "      <td>1.624992</td>\n",
              "      <td>10.174284</td>\n",
              "      <td>0.648942</td>\n",
              "      <td>0.502096</td>\n",
              "      <td>1.414214</td>\n",
              "      <td>0.732594</td>\n",
              "      <td>9.347853</td>\n",
              "    </tr>\n",
              "    <tr>\n",
              "      <th>min</th>\n",
              "      <td>25.041421</td>\n",
              "      <td>0.000000</td>\n",
              "      <td>0.813294</td>\n",
              "      <td>0.000000</td>\n",
              "      <td>14.406571</td>\n",
              "      <td>3.330377</td>\n",
              "      <td>0.000000</td>\n",
              "      <td>0.000000</td>\n",
              "      <td>0.000000</td>\n",
              "      <td>0.000000</td>\n",
              "    </tr>\n",
              "    <tr>\n",
              "      <th>25%</th>\n",
              "      <td>42.078496</td>\n",
              "      <td>0.000000</td>\n",
              "      <td>8.240406</td>\n",
              "      <td>2.500000</td>\n",
              "      <td>24.512663</td>\n",
              "      <td>5.206422</td>\n",
              "      <td>0.000000</td>\n",
              "      <td>1.500000</td>\n",
              "      <td>1.000000</td>\n",
              "      <td>3.000000</td>\n",
              "    </tr>\n",
              "    <tr>\n",
              "      <th>50%</th>\n",
              "      <td>48.337291</td>\n",
              "      <td>1.000000</td>\n",
              "      <td>15.264065</td>\n",
              "      <td>3.500000</td>\n",
              "      <td>32.731006</td>\n",
              "      <td>5.553054</td>\n",
              "      <td>0.500000</td>\n",
              "      <td>2.500000</td>\n",
              "      <td>1.000000</td>\n",
              "      <td>5.000000</td>\n",
              "    </tr>\n",
              "    <tr>\n",
              "      <th>75%</th>\n",
              "      <td>54.823805</td>\n",
              "      <td>1.000000</td>\n",
              "      <td>22.634523</td>\n",
              "      <td>4.000000</td>\n",
              "      <td>38.509240</td>\n",
              "      <td>5.978486</td>\n",
              "      <td>1.000000</td>\n",
              "      <td>3.000000</td>\n",
              "      <td>2.000000</td>\n",
              "      <td>13.000000</td>\n",
              "    </tr>\n",
              "    <tr>\n",
              "      <th>max</th>\n",
              "      <td>74.129936</td>\n",
              "      <td>1.000000</td>\n",
              "      <td>48.971791</td>\n",
              "      <td>7.500000</td>\n",
              "      <td>64.309377</td>\n",
              "      <td>6.579679</td>\n",
              "      <td>1.000000</td>\n",
              "      <td>3.000000</td>\n",
              "      <td>2.000000</td>\n",
              "      <td>53.000000</td>\n",
              "    </tr>\n",
              "  </tbody>\n",
              "</table>\n",
              "</div>\n",
              "    <div class=\"colab-df-buttons\">\n",
              "\n",
              "  <div class=\"colab-df-container\">\n",
              "    <button class=\"colab-df-convert\" onclick=\"convertToInteractive('df-f62a52dd-b1c0-46ef-a5e4-f4df240de932')\"\n",
              "            title=\"Convert this dataframe to an interactive table.\"\n",
              "            style=\"display:none;\">\n",
              "\n",
              "  <svg xmlns=\"http://www.w3.org/2000/svg\" height=\"24px\" viewBox=\"0 -960 960 960\">\n",
              "    <path d=\"M120-120v-720h720v720H120Zm60-500h600v-160H180v160Zm220 220h160v-160H400v160Zm0 220h160v-160H400v160ZM180-400h160v-160H180v160Zm440 0h160v-160H620v160ZM180-180h160v-160H180v160Zm440 0h160v-160H620v160Z\"/>\n",
              "  </svg>\n",
              "    </button>\n",
              "\n",
              "  <style>\n",
              "    .colab-df-container {\n",
              "      display:flex;\n",
              "      gap: 12px;\n",
              "    }\n",
              "\n",
              "    .colab-df-convert {\n",
              "      background-color: #E8F0FE;\n",
              "      border: none;\n",
              "      border-radius: 50%;\n",
              "      cursor: pointer;\n",
              "      display: none;\n",
              "      fill: #1967D2;\n",
              "      height: 32px;\n",
              "      padding: 0 0 0 0;\n",
              "      width: 32px;\n",
              "    }\n",
              "\n",
              "    .colab-df-convert:hover {\n",
              "      background-color: #E2EBFA;\n",
              "      box-shadow: 0px 1px 2px rgba(60, 64, 67, 0.3), 0px 1px 3px 1px rgba(60, 64, 67, 0.15);\n",
              "      fill: #174EA6;\n",
              "    }\n",
              "\n",
              "    .colab-df-buttons div {\n",
              "      margin-bottom: 4px;\n",
              "    }\n",
              "\n",
              "    [theme=dark] .colab-df-convert {\n",
              "      background-color: #3B4455;\n",
              "      fill: #D2E3FC;\n",
              "    }\n",
              "\n",
              "    [theme=dark] .colab-df-convert:hover {\n",
              "      background-color: #434B5C;\n",
              "      box-shadow: 0px 1px 3px 1px rgba(0, 0, 0, 0.15);\n",
              "      filter: drop-shadow(0px 1px 2px rgba(0, 0, 0, 0.3));\n",
              "      fill: #FFFFFF;\n",
              "    }\n",
              "  </style>\n",
              "\n",
              "    <script>\n",
              "      const buttonEl =\n",
              "        document.querySelector('#df-f62a52dd-b1c0-46ef-a5e4-f4df240de932 button.colab-df-convert');\n",
              "      buttonEl.style.display =\n",
              "        google.colab.kernel.accessAllowed ? 'block' : 'none';\n",
              "\n",
              "      async function convertToInteractive(key) {\n",
              "        const element = document.querySelector('#df-f62a52dd-b1c0-46ef-a5e4-f4df240de932');\n",
              "        const dataTable =\n",
              "          await google.colab.kernel.invokeFunction('convertToInteractive',\n",
              "                                                    [key], {});\n",
              "        if (!dataTable) return;\n",
              "\n",
              "        const docLinkHtml = 'Like what you see? Visit the ' +\n",
              "          '<a target=\"_blank\" href=https://colab.research.google.com/notebooks/data_table.ipynb>data table notebook</a>'\n",
              "          + ' to learn more about interactive tables.';\n",
              "        element.innerHTML = '';\n",
              "        dataTable['output_type'] = 'display_data';\n",
              "        await google.colab.output.renderOutput(dataTable, element);\n",
              "        const docLink = document.createElement('div');\n",
              "        docLink.innerHTML = docLinkHtml;\n",
              "        element.appendChild(docLink);\n",
              "      }\n",
              "    </script>\n",
              "  </div>\n",
              "\n",
              "\n",
              "    <div id=\"df-39df3257-99d8-473f-ac3f-f0688416a34c\">\n",
              "      <button class=\"colab-df-quickchart\" onclick=\"quickchart('df-39df3257-99d8-473f-ac3f-f0688416a34c')\"\n",
              "                title=\"Suggest charts\"\n",
              "                style=\"display:none;\">\n",
              "\n",
              "<svg xmlns=\"http://www.w3.org/2000/svg\" height=\"24px\"viewBox=\"0 0 24 24\"\n",
              "     width=\"24px\">\n",
              "    <g>\n",
              "        <path d=\"M19 3H5c-1.1 0-2 .9-2 2v14c0 1.1.9 2 2 2h14c1.1 0 2-.9 2-2V5c0-1.1-.9-2-2-2zM9 17H7v-7h2v7zm4 0h-2V7h2v10zm4 0h-2v-4h2v4z\"/>\n",
              "    </g>\n",
              "</svg>\n",
              "      </button>\n",
              "\n",
              "<style>\n",
              "  .colab-df-quickchart {\n",
              "      --bg-color: #E8F0FE;\n",
              "      --fill-color: #1967D2;\n",
              "      --hover-bg-color: #E2EBFA;\n",
              "      --hover-fill-color: #174EA6;\n",
              "      --disabled-fill-color: #AAA;\n",
              "      --disabled-bg-color: #DDD;\n",
              "  }\n",
              "\n",
              "  [theme=dark] .colab-df-quickchart {\n",
              "      --bg-color: #3B4455;\n",
              "      --fill-color: #D2E3FC;\n",
              "      --hover-bg-color: #434B5C;\n",
              "      --hover-fill-color: #FFFFFF;\n",
              "      --disabled-bg-color: #3B4455;\n",
              "      --disabled-fill-color: #666;\n",
              "  }\n",
              "\n",
              "  .colab-df-quickchart {\n",
              "    background-color: var(--bg-color);\n",
              "    border: none;\n",
              "    border-radius: 50%;\n",
              "    cursor: pointer;\n",
              "    display: none;\n",
              "    fill: var(--fill-color);\n",
              "    height: 32px;\n",
              "    padding: 0;\n",
              "    width: 32px;\n",
              "  }\n",
              "\n",
              "  .colab-df-quickchart:hover {\n",
              "    background-color: var(--hover-bg-color);\n",
              "    box-shadow: 0 1px 2px rgba(60, 64, 67, 0.3), 0 1px 3px 1px rgba(60, 64, 67, 0.15);\n",
              "    fill: var(--button-hover-fill-color);\n",
              "  }\n",
              "\n",
              "  .colab-df-quickchart-complete:disabled,\n",
              "  .colab-df-quickchart-complete:disabled:hover {\n",
              "    background-color: var(--disabled-bg-color);\n",
              "    fill: var(--disabled-fill-color);\n",
              "    box-shadow: none;\n",
              "  }\n",
              "\n",
              "  .colab-df-spinner {\n",
              "    border: 2px solid var(--fill-color);\n",
              "    border-color: transparent;\n",
              "    border-bottom-color: var(--fill-color);\n",
              "    animation:\n",
              "      spin 1s steps(1) infinite;\n",
              "  }\n",
              "\n",
              "  @keyframes spin {\n",
              "    0% {\n",
              "      border-color: transparent;\n",
              "      border-bottom-color: var(--fill-color);\n",
              "      border-left-color: var(--fill-color);\n",
              "    }\n",
              "    20% {\n",
              "      border-color: transparent;\n",
              "      border-left-color: var(--fill-color);\n",
              "      border-top-color: var(--fill-color);\n",
              "    }\n",
              "    30% {\n",
              "      border-color: transparent;\n",
              "      border-left-color: var(--fill-color);\n",
              "      border-top-color: var(--fill-color);\n",
              "      border-right-color: var(--fill-color);\n",
              "    }\n",
              "    40% {\n",
              "      border-color: transparent;\n",
              "      border-right-color: var(--fill-color);\n",
              "      border-top-color: var(--fill-color);\n",
              "    }\n",
              "    60% {\n",
              "      border-color: transparent;\n",
              "      border-right-color: var(--fill-color);\n",
              "    }\n",
              "    80% {\n",
              "      border-color: transparent;\n",
              "      border-right-color: var(--fill-color);\n",
              "      border-bottom-color: var(--fill-color);\n",
              "    }\n",
              "    90% {\n",
              "      border-color: transparent;\n",
              "      border-bottom-color: var(--fill-color);\n",
              "    }\n",
              "  }\n",
              "</style>\n",
              "\n",
              "      <script>\n",
              "        async function quickchart(key) {\n",
              "          const quickchartButtonEl =\n",
              "            document.querySelector('#' + key + ' button');\n",
              "          quickchartButtonEl.disabled = true;  // To prevent multiple clicks.\n",
              "          quickchartButtonEl.classList.add('colab-df-spinner');\n",
              "          try {\n",
              "            const charts = await google.colab.kernel.invokeFunction(\n",
              "                'suggestCharts', [key], {});\n",
              "          } catch (error) {\n",
              "            console.error('Error during call to suggestCharts:', error);\n",
              "          }\n",
              "          quickchartButtonEl.classList.remove('colab-df-spinner');\n",
              "          quickchartButtonEl.classList.add('colab-df-quickchart-complete');\n",
              "        }\n",
              "        (() => {\n",
              "          let quickchartButtonEl =\n",
              "            document.querySelector('#df-39df3257-99d8-473f-ac3f-f0688416a34c button');\n",
              "          quickchartButtonEl.style.display =\n",
              "            google.colab.kernel.accessAllowed ? 'block' : 'none';\n",
              "        })();\n",
              "      </script>\n",
              "    </div>\n",
              "\n",
              "    </div>\n",
              "  </div>\n"
            ],
            "application/vnd.google.colaboratory.intrinsic+json": {
              "type": "dataframe",
              "summary": "{\n  \"name\": \"df_reducido\",\n  \"rows\": 8,\n  \"fields\": [\n    {\n      \"column\": \"Age_MRI\",\n      \"properties\": {\n        \"dtype\": \"number\",\n        \"std\": 33.13030085381956,\n        \"min\": 10.510501682719186,\n        \"max\": 120.0,\n        \"num_unique_values\": 8,\n        \"samples\": [\n          48.94290563921212,\n          48.33729085862055,\n          120.0\n        ],\n        \"semantic_type\": \"\",\n        \"description\": \"\"\n      }\n    },\n    {\n      \"column\": \"Sex_fem\",\n      \"properties\": {\n        \"dtype\": \"number\",\n        \"std\": 42.2193669212608,\n        \"min\": 0.0,\n        \"max\": 120.0,\n        \"num_unique_values\": 5,\n        \"samples\": [\n          0.6666666666666666,\n          1.0,\n          0.47338106833115046\n        ],\n        \"semantic_type\": \"\",\n        \"description\": \"\"\n      }\n    },\n    {\n      \"column\": \"Disease_duration\",\n      \"properties\": {\n        \"dtype\": \"number\",\n        \"std\": 38.961581314485265,\n        \"min\": 0.813293786599859,\n        \"max\": 120.0,\n        \"num_unique_values\": 8,\n        \"samples\": [\n          16.329147939006784,\n          15.26406475777635,\n          120.0\n        ],\n        \"semantic_type\": \"\",\n        \"description\": \"\"\n      }\n    },\n    {\n      \"column\": \"EDSS_Baseline\",\n      \"properties\": {\n        \"dtype\": \"number\",\n        \"std\": 41.33433682449261,\n        \"min\": 0.0,\n        \"max\": 120.0,\n        \"num_unique_values\": 8,\n        \"samples\": [\n          3.6125,\n          3.5,\n          120.0\n        ],\n        \"semantic_type\": \"\",\n        \"description\": \"\"\n      }\n    },\n    {\n      \"column\": \"Age_onset\",\n      \"properties\": {\n        \"dtype\": \"number\",\n        \"std\": 35.55236087166092,\n        \"min\": 10.174283789591563,\n        \"max\": 120.0,\n        \"num_unique_values\": 8,\n        \"samples\": [\n          32.61375770020535,\n          32.73100616016425,\n          120.0\n        ],\n        \"semantic_type\": \"\",\n        \"description\": \"\"\n      }\n    },\n    {\n      \"column\": \"Fup_interval\",\n      \"properties\": {\n        \"dtype\": \"number\",\n        \"std\": 40.81236854041846,\n        \"min\": 0.6489420836472295,\n        \"max\": 120.0,\n        \"num_unique_values\": 8,\n        \"samples\": [\n          5.53056002357592,\n          5.55305441478439,\n          120.0\n        ],\n        \"semantic_type\": \"\",\n        \"description\": \"\"\n      }\n    },\n    {\n      \"column\": \"control_caso\",\n      \"properties\": {\n        \"dtype\": \"number\",\n        \"std\": 42.25121489807593,\n        \"min\": 0.0,\n        \"max\": 120.0,\n        \"num_unique_values\": 5,\n        \"samples\": [\n          0.5,\n          1.0,\n          0.5020964452534338\n        ],\n        \"semantic_type\": \"\",\n        \"description\": \"\"\n      }\n    },\n    {\n      \"column\": \"perdidos\",\n      \"properties\": {\n        \"dtype\": \"number\",\n        \"std\": 1.2301652473496407,\n        \"min\": 0.0,\n        \"max\": 4.0,\n        \"num_unique_values\": 7,\n        \"samples\": [\n          4.0,\n          2.0,\n          2.5\n        ],\n        \"semantic_type\": \"\",\n        \"description\": \"\"\n      }\n    },\n    {\n      \"column\": \"CURRENT_TTO\",\n      \"properties\": {\n        \"dtype\": \"number\",\n        \"std\": 42.034185410808206,\n        \"min\": 0.0,\n        \"max\": 120.0,\n        \"num_unique_values\": 6,\n        \"samples\": [\n          120.0,\n          1.1333333333333333,\n          2.0\n        ],\n        \"semantic_type\": \"\",\n        \"description\": \"\"\n      }\n    },\n    {\n      \"column\": \"lesiones\",\n      \"properties\": {\n        \"dtype\": \"number\",\n        \"std\": 41.32235205394595,\n        \"min\": 0.0,\n        \"max\": 120.0,\n        \"num_unique_values\": 8,\n        \"samples\": [\n          8.75,\n          5.0,\n          120.0\n        ],\n        \"semantic_type\": \"\",\n        \"description\": \"\"\n      }\n    }\n  ]\n}"
            }
          },
          "metadata": {},
          "execution_count": 72
        }
      ]
    },
    {
      "cell_type": "code",
      "source": [
        "import seaborn as sns\n",
        "import matplotlib.pyplot as plt\n",
        "import numpy as np\n",
        "\n",
        "X = df_reducido.drop('control_caso', axis=1)\n",
        "y = df_reducido['control_caso']\n",
        "feature_names = X.columns\n",
        "\n",
        "#Selecciona el tamaño de la figura y crea una figura que tenga 3 columnas y de filas el número de variables a representar entre 3.\n",
        "plt.figure(figsize=(12, 15))\n",
        "n_features = len(feature_names)\n",
        "rows = (n_features + 1) // 3\n",
        "cols = 3\n",
        "#Crea el gráfico de cajas para cada variable en función de si ha tenido evento cardiovascular o no.\n",
        "for i, feature in enumerate(feature_names, 1):\n",
        "    plt.subplot(rows, cols, i)\n",
        "    sns.boxplot(x=y, y=feature, data=df_reducido)\n",
        "    plt.title(f' {feature}')\n",
        "    plt.xlabel('control_caso')"
      ],
      "metadata": {
        "colab": {
          "base_uri": "https://localhost:8080/",
          "height": 1000
        },
        "id": "AkLOaM8T0dfX",
        "outputId": "ff0c0f2a-5595-4565-9910-926039c25db0"
      },
      "execution_count": 74,
      "outputs": [
        {
          "output_type": "display_data",
          "data": {
            "text/plain": [
              "<Figure size 1200x1500 with 9 Axes>"
            ],
            "image/png": "[encoded data removed]"
          },
          "metadata": {}
        }
      ]
    },
    {
      "cell_type": "markdown",
      "source": [
        "Solo descuadra un paciente de los controles que tiene 53 T1rims igual se podría revisar."
      ],
      "metadata": {
        "id": "0e6EFIwC6SL_"
      }
    },
    {
      "cell_type": "code",
      "source": [
        "#Se comprueba si la variable lesiones sigue una distribución normal\n",
        "from scipy.stats import shapiro\n",
        "stat, p = shapiro(df_reducido['lesiones'].dropna())\n",
        "\n",
        "print(f'Estadístico W: {stat}')\n",
        "print(f'Valor p: {p}')\n",
        "\n",
        "if p > 0.05:\n",
        "    print(\"✅ La variable 'lesiones' parece seguir una distribución normal (no se rechaza H0).\")\n",
        "else:\n",
        "    print(\"❌ La variable 'lesiones' no sigue una distribución normal (se rechaza H0).\")\n",
        "\n"
      ],
      "metadata": {
        "colab": {
          "base_uri": "https://localhost:8080/",
          "height": 70
        },
        "id": "FvoWXJ_C6RI6",
        "outputId": "709b7bf0-618a-4d8c-9c54-01ec944b1953"
      },
      "execution_count": 75,
      "outputs": [
        {
          "output_type": "display_data",
          "data": {
            "text/plain": [
              "Estadístico W: \u001b[1;36m0.7861435396194917\u001b[0m\n"
            ],
            "text/html": [
              "<pre style=\"white-space:pre;overflow-x:auto;line-height:normal;font-family:Menlo,'DejaVu Sans Mono',consolas,'Courier New',monospace\">Estadístico W: <span style=\"color: #008080; text-decoration-color: #008080; font-weight: bold\">0.7861435396194917</span>\n",
              "</pre>\n"
            ]
          },
          "metadata": {}
        },
        {
          "output_type": "display_data",
          "data": {
            "text/plain": [
              "Valor p: \u001b[1;36m6.19508052581018e-12\u001b[0m\n"
            ],
            "text/html": [
              "<pre style=\"white-space:pre;overflow-x:auto;line-height:normal;font-family:Menlo,'DejaVu Sans Mono',consolas,'Courier New',monospace\">Valor p: <span style=\"color: #008080; text-decoration-color: #008080; font-weight: bold\">6.19508052581018e-12</span>\n",
              "</pre>\n"
            ]
          },
          "metadata": {}
        },
        {
          "output_type": "display_data",
          "data": {
            "text/plain": [
              "❌ La variable \u001b[32m'lesiones'\u001b[0m no sigue una distribución normal \u001b[1m(\u001b[0mse rechaza H0\u001b[1m)\u001b[0m.\n"
            ],
            "text/html": [
              "<pre style=\"white-space:pre;overflow-x:auto;line-height:normal;font-family:Menlo,'DejaVu Sans Mono',consolas,'Courier New',monospace\">❌ La variable <span style=\"color: #008000; text-decoration-color: #008000\">'lesiones'</span> no sigue una distribución normal <span style=\"font-weight: bold\">(</span>se rechaza H0<span style=\"font-weight: bold\">)</span>.\n",
              "</pre>\n"
            ]
          },
          "metadata": {}
        }
      ]
    },
    {
      "cell_type": "code",
      "source": [
        "sns.histplot(df_reducido['lesiones'].dropna(), kde=True)\n",
        "plt.title(\"Distribución de la variable 'lesiones'\")\n",
        "plt.xlabel(\"lesiones\")\n",
        "plt.ylabel(\"Frecuencia\")\n",
        "plt.show()\n"
      ],
      "metadata": {
        "colab": {
          "base_uri": "https://localhost:8080/",
          "height": 472
        },
        "id": "cDvYqPUU7zUR",
        "outputId": "3190019a-18e6-4a61-e17b-1e3ced5b0b05"
      },
      "execution_count": 78,
      "outputs": [
        {
          "output_type": "display_data",
          "data": {
            "text/plain": [
              "<Figure size 640x480 with 1 Axes>"
            ],
            "image/png": "[encoded data removed]"
          },
          "metadata": {}
        }
      ]
    },
    {
      "cell_type": "code",
      "source": [
        "from scipy.stats import mannwhitneyu\n",
        "\n",
        "# Separar los datos por grupo\n",
        "grupo_control = df_reducido[df_reducido['control_caso'] == 0]['lesiones'].dropna()\n",
        "grupo_caso = df_reducido[df_reducido['control_caso'] == 1]['lesiones'].dropna()\n",
        "\n",
        "# Aplicar el test de Mann-Whitney U\n",
        "stat, p = mannwhitneyu(grupo_control, grupo_caso, alternative='two-sided')\n",
        "\n",
        "print(f'Estadístico U: {stat}')\n",
        "print(f'Valor p: {p}')\n",
        "\n",
        "if p < 0.05:\n",
        "    print(\"❌ Hay diferencias estadísticamente significativas entre los grupos (se rechaza H0).\")\n",
        "else:\n",
        "    print(\"✅ No hay diferencias estadísticamente significativas entre los grupos (no se rechaza H0).\")"
      ],
      "metadata": {
        "colab": {
          "base_uri": "https://localhost:8080/",
          "height": 70
        },
        "id": "BExsTHQS9iDC",
        "outputId": "e2efe0cb-7372-48f0-dda7-5cf8c205d1a0"
      },
      "execution_count": 79,
      "outputs": [
        {
          "output_type": "display_data",
          "data": {
            "text/plain": [
              "Estadístico U: \u001b[1;36m1961.0\u001b[0m\n"
            ],
            "text/html": [
              "<pre style=\"white-space:pre;overflow-x:auto;line-height:normal;font-family:Menlo,'DejaVu Sans Mono',consolas,'Courier New',monospace\">Estadístico U: <span style=\"color: #008080; text-decoration-color: #008080; font-weight: bold\">1961.0</span>\n",
              "</pre>\n"
            ]
          },
          "metadata": {}
        },
        {
          "output_type": "display_data",
          "data": {
            "text/plain": [
              "Valor p: \u001b[1;36m0.3982435082729556\u001b[0m\n"
            ],
            "text/html": [
              "<pre style=\"white-space:pre;overflow-x:auto;line-height:normal;font-family:Menlo,'DejaVu Sans Mono',consolas,'Courier New',monospace\">Valor p: <span style=\"color: #008080; text-decoration-color: #008080; font-weight: bold\">0.3982435082729556</span>\n",
              "</pre>\n"
            ]
          },
          "metadata": {}
        },
        {
          "output_type": "display_data",
          "data": {
            "text/plain": [
              "✅ No hay diferencias estadísticamente significativas entre los grupos \u001b[1m(\u001b[0mno se rechaza H0\u001b[1m)\u001b[0m.\n"
            ],
            "text/html": [
              "<pre style=\"white-space:pre;overflow-x:auto;line-height:normal;font-family:Menlo,'DejaVu Sans Mono',consolas,'Courier New',monospace\">✅ No hay diferencias estadísticamente significativas entre los grupos <span style=\"font-weight: bold\">(</span>no se rechaza H0<span style=\"font-weight: bold\">)</span>.\n",
              "</pre>\n"
            ]
          },
          "metadata": {}
        }
      ]
    },
    {
      "cell_type": "markdown",
      "source": [
        "Usando la U de Mann Whitney con los datos sin emparejar me sale que no hay diferencias significativas en el número de lesiones entre el grupo control y el grupo caso."
      ],
      "metadata": {
        "id": "NHWrJ8KC9tva"
      }
    }
  ]
}